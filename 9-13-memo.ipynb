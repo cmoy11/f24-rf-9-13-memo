{
 "cells": [
  {
   "cell_type": "markdown",
   "metadata": {},
   "source": [
    "## ToDo\n",
    "- Increase number of videos\n",
    "- Protocol to run once/hour\n",
    "- Only save new data (not duplicates)\n",
    "- Look through the TikTok API documentation to see if can reach back further\n",
    "    - Seems like no\n",
    "- Increase video count"
   ]
  },
  {
   "cell_type": "code",
   "execution_count": 1,
   "metadata": {},
   "outputs": [
    {
     "name": "stdout",
     "output_type": "stream",
     "text": [
      "If pyktok does not operate as expected, you may find it helpful to run the 'specify_browser' function. 'specify_browser' takes as its sole argument a string representing a browser installed on your system, e.g. \"chrome,\" \"firefox,\" \"edge,\" etc.\n"
     ]
    }
   ],
   "source": [
    "import pandas as pd\n",
    "import pyktok as pyk\n",
    "import random\n",
    "import time"
   ]
  },
  {
   "cell_type": "markdown",
   "metadata": {},
   "source": [
    "## Hourly pulls of user videos\n",
    "\n",
    "#### Issues:"
   ]
  },
  {
   "cell_type": "code",
   "execution_count": 2,
   "metadata": {},
   "outputs": [],
   "source": [
    "influencers = pd.read_csv('usernames.csv')\n",
    "random.seed(11)\n",
    "influencer_sample = random.sample(list(influencers.Username), 100)"
   ]
  },
  {
   "cell_type": "code",
   "execution_count": 3,
   "metadata": {},
   "outputs": [],
   "source": [
    "for n in range(12):\n",
    "    for influencer in influencer_sample:\n",
    "        attempt = 0\n",
    "        num_failed = 0\n",
    "        while attempt < 5:\n",
    "            try:\n",
    "                pyk.save_tiktok_multi_page(influencer,ent_type='user',save_video=False,metadata_fn='9-9-influencer-metadata-hourly.csv')\n",
    "                attempt = 0\n",
    "                break\n",
    "            except Exception as e:\n",
    "                attempt += 1\n",
    "                print(f\"Attempt {attempt} failed: {e}\")\n",
    "                time.sleep(5)\n",
    "                if attempt >= 5:\n",
    "                    print(\"Max retries reached. Exiting.\")\n",
    "                    attempt = 0\n",
    "                    num_failed += 1\n",
    "                    break\n",
    "    df = pd.read_csv('9-9-influencer-metadata-hourly.csv')\n",
    "    df_cleaned = df.drop_duplicates(subset=\"video_id\")\n",
    "    df_cleaned.to_csv('9-9-influencer-metadata-hourly.csv')\n",
    "    print('sleeping for 10 minutes ;)')\n",
    "    print(f'number of failed videos: {num_failed}')\n",
    "    time.sleep(600)"
   ]
  },
  {
   "cell_type": "markdown",
   "metadata": {},
   "source": [
    "Resulting dataset: 9-9-influencer-metadata-hourly.csv"
   ]
  },
  {
   "cell_type": "markdown",
   "metadata": {},
   "source": [
    "## Hourly pulls of related videos\n",
    "\n",
    "#### Issues:\n",
    "- Related videos only pulled from the same user when running ~hourly"
   ]
  },
  {
   "cell_type": "code",
   "execution_count": 6,
   "metadata": {},
   "outputs": [],
   "source": [
    "influencer_videos = pd.read_csv('9-9-influencer-metadata-hourly.csv')"
   ]
  },
  {
   "cell_type": "code",
   "execution_count": 16,
   "metadata": {},
   "outputs": [],
   "source": [
    "video_sample = random.sample(list(influencer_videos[['video_id', 'author_username']].itertuples()), 10)"
   ]
  },
  {
   "cell_type": "code",
   "execution_count": null,
   "metadata": {},
   "outputs": [],
   "source": [
    "for n in range(6):\n",
    "    for video in video_sample:\n",
    "        attempt = 0\n",
    "        num_failed = 0\n",
    "        while attempt < 5:\n",
    "            try:\n",
    "                pyk.save_tiktok_multi_page(f'https://www.tiktok.com/@{video.author_username}/video/{video.video_id}',ent_type='video_related',save_video=False,metadata_fn=f'related-videos/9-13-rv-{video.video_id}.csv')\n",
    "                attempt = 0\n",
    "                break\n",
    "            except Exception as e:\n",
    "                attempt += 1\n",
    "                print(f\"Attempt {attempt} failed: {e}\")\n",
    "                time.sleep(5)\n",
    "                if attempt >= 5:\n",
    "                    print(\"Max retries reached. Exiting.\")\n",
    "                    attempt = 0\n",
    "                    num_failed += 1\n",
    "                    break\n",
    "        df = pd.read_csv(f'related-videos/9-13-rv-{video.video_id}.csv')\n",
    "        df_cleaned = df.drop_duplicates(subset=\"video_id\")\n",
    "        df_cleaned.to_csv('related-videos/9-13-rv-{video_id}.csv')\n",
    "    print('sleeping for 10 minutes ;)')\n",
    "    print(f'number of failed videos: {num_failed}')\n",
    "    time.sleep(600)"
   ]
  },
  {
   "cell_type": "markdown",
   "metadata": {},
   "source": [
    "Outputs: realted-videos/"
   ]
  },
  {
   "cell_type": "code",
   "execution_count": null,
   "metadata": {},
   "outputs": [],
   "source": [
    "pyk.save_tiktok_multi_page(f'https://www.tiktok.com/@rkalimann/video/7374602041613864198',ent_type='video_related',save_video=False,metadata_fn=f'related-videos/9-13-rv-singletest.csv')"
   ]
  },
  {
   "cell_type": "markdown",
   "metadata": {},
   "source": [
    "Output: related-videos/9-13-rv-singletest.csv"
   ]
  },
  {
   "cell_type": "markdown",
   "metadata": {},
   "source": [
    "## Increase number of videos"
   ]
  },
  {
   "cell_type": "code",
   "execution_count": null,
   "metadata": {},
   "outputs": [],
   "source": [
    "pyk.save_tiktok_multi_page(f'https://www.tiktok.com/@rkalimann/video/7374602041613864198', video_ct=50, ent_type='video_related',save_video=False,metadata_fn=f'related-videos/9-13-rv-singletest.csv')"
   ]
  },
  {
   "cell_type": "markdown",
   "metadata": {},
   "source": [
    "Output: related-videos/9-13-rv-singletest.csv\n",
    "\n",
    "Returned 60 videos"
   ]
  },
  {
   "cell_type": "markdown",
   "metadata": {},
   "source": [
    "Suggestions:\n",
    "- Potentially adding a prevent duplicates argument in pyktok? Can manually remove duplicates, but would be more efficient to prevent pyktok to skip videos it has already scraped"
   ]
  },
  {
   "cell_type": "markdown",
   "metadata": {},
   "source": []
  }
 ],
 "metadata": {
  "kernelspec": {
   "display_name": "Python 3",
   "language": "python",
   "name": "python3"
  },
  "language_info": {
   "codemirror_mode": {
    "name": "ipython",
    "version": 3
   },
   "file_extension": ".py",
   "mimetype": "text/x-python",
   "name": "python",
   "nbconvert_exporter": "python",
   "pygments_lexer": "ipython3",
   "version": "3.12.5"
  }
 },
 "nbformat": 4,
 "nbformat_minor": 2
}
